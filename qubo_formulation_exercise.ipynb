{
 "cells": [
  {
   "cell_type": "markdown",
   "id": "4aa1df98",
   "metadata": {},
   "source": [
    "# Traveling salesperson problem (TSP) exercise\n",
    "\n",
    "In this exercise you will try yourself to implement the mapping of a TSP problem instance to QUBO form"
   ]
  },
  {
   "attachments": {},
   "cell_type": "markdown",
   "id": "c3553935",
   "metadata": {},
   "source": [
    "## The TSP Problem\n",
    "\n",
    "In the [TSP Problem](https://en.wikipedia.org/wiki/Travelling_salesman_problem) a salesperson has to travel to a list of cities in a certain order. That order should be optimized such that the total distance is minimized and each city is visited once. \n",
    "\n",
    "It can be formulated (for example) by a decision variable $x_{i\\alpha}$ which is 1 if the salesperson visits city $i \\in \\{1, ..., N\\}$ at his $\\alpha$th stop. ($\\alpha \\in \\{1, ..., N\\}$)\n",
    "\n",
    "The cost function to be minimized is the total distance\n",
    "\n",
    "$$C = \\sum_{i < j} \\sum_{\\alpha} d_{ij} x_{i\\alpha} x_{j\\alpha +1}$$\n",
    "\n",
    "where $d_{ij}$ are the distances between each pair of cities $i$ and $j$ and we assume he returns to where he started\n",
    "\n",
    "$$ x_{i N + 1} = x_{i 1} $$\n",
    "\n",
    "We have the constraint that each city is only visited exactly once\n",
    "\n",
    "$$ \\forall i \\sum_\\alpha x_{i\\alpha} = 1$$\n",
    "\n",
    "and only one city can be visited at each stop\n",
    "\n",
    "$$ \\forall \\alpha \\sum_i x_{i\\alpha} = 1$$\n",
    "\n",
    "### \n",
    "\n",
    "The QUBO formulation would be\n",
    " \n",
    "$$ Q = C + \\lambda_k K + \\lambda_j J $$\n",
    "\n",
    "with\n",
    "\n",
    "$$ K := \\sum_i (\\sum_\\alpha x_{i\\alpha} - 1)^2 $$\n",
    "\n",
    "and\n",
    "\n",
    "$$ J := \\sum_\\alpha (\\sum_i x_{i\\alpha} - 1)^2 $$\n"
   ]
  },
  {
   "cell_type": "code",
   "execution_count": 1,
   "id": "401c4049",
   "metadata": {},
   "outputs": [],
   "source": [
    "import numpy as np\n",
    "import pandas as pd\n",
    "import matplotlib.pyplot as plt\n",
    "import qiskit\n",
    "import qiskit_optimization\n",
    "import itertools as it\n",
    "from qiskit_optimization import QuadraticProgram"
   ]
  },
  {
   "attachments": {},
   "cell_type": "markdown",
   "id": "36e6f017",
   "metadata": {},
   "source": [
    "### Exercise: Implement an instance class containing the distances and number of cities "
   ]
  },
  {
   "cell_type": "code",
   "execution_count": 2,
   "id": "e5523001",
   "metadata": {},
   "outputs": [],
   "source": [
    "class TSPInstance():\n",
    "    def __init__(self,\n",
    "                distances,\n",
    "                num_cities,\n",
    "                 ):  \n",
    "                                                                                              \n",
    "        # ....\n",
    "        # ....\n",
    "        pass  # remove this line"
   ]
  },
  {
   "cell_type": "code",
   "execution_count": 3,
   "id": "78c3a198",
   "metadata": {},
   "outputs": [],
   "source": [
    "%run -i solutions/solution_tsp_instance.py\n"
   ]
  },
  {
   "attachments": {},
   "cell_type": "markdown",
   "id": "4fb61c4a",
   "metadata": {},
   "source": [
    "### Exercise: Create an TSP instance from the following\n",
    "\n",
    "![tsp](./images/tsp_data_graph.png)\n",
    "\n",
    "where the nodes of the graph are the cities $i$ and the numbers on the edges are the distances $d_{ij}$.\n",
    "\n"
   ]
  },
  {
   "cell_type": "code",
   "execution_count": 4,
   "id": "a8e7e25a",
   "metadata": {},
   "outputs": [],
   "source": [
    "#instance = TSPInstance()"
   ]
  },
  {
   "cell_type": "code",
   "execution_count": 5,
   "id": "730ba10f",
   "metadata": {},
   "outputs": [],
   "source": [
    "%run -i solutions/solution_tsp_instance_data.py"
   ]
  },
  {
   "cell_type": "code",
   "execution_count": 6,
   "id": "fb196336",
   "metadata": {},
   "outputs": [
    {
     "name": "stdout",
     "output_type": "stream",
     "text": [
      "{(0, 1): 10, (0, 2): 15, (0, 3): 20, (1, 2): 35, (1, 3): 25, (2, 3): 30}\n"
     ]
    }
   ],
   "source": [
    "print(instance.distances)"
   ]
  },
  {
   "attachments": {},
   "cell_type": "markdown",
   "id": "62965c8b",
   "metadata": {},
   "source": [
    "### Create a Quadratic model from the above instance: Step 1: Add the binary variables $x_{i\\alpha}$ \n",
    "\n",
    "Hint: https://qiskit.org/ecosystem/optimization/tutorials/01_quadratic_program.html"
   ]
  },
  {
   "cell_type": "code",
   "execution_count": 7,
   "id": "45b80043",
   "metadata": {},
   "outputs": [],
   "source": [
    "#mod = QuadraticProgram(\"TSP\")\n",
    "\n",
    "##"
   ]
  },
  {
   "cell_type": "code",
   "execution_count": 8,
   "id": "51b52ff4",
   "metadata": {},
   "outputs": [],
   "source": [
    "%run -i solutions/solution_tsp_build_model_step_1.py"
   ]
  },
  {
   "cell_type": "code",
   "execution_count": 9,
   "id": "89df81f7",
   "metadata": {},
   "outputs": [
    {
     "name": "stdout",
     "output_type": "stream",
     "text": [
      "Problem name: TSP\n",
      "\n",
      "Minimize\n",
      "  0\n",
      "\n",
      "Subject to\n",
      "  No constraints\n",
      "\n",
      "  Binary variables (16)\n",
      "    x_0_0 x_0_1 x_0_2 x_0_3 x_1_0 x_1_1 x_1_2 x_1_3 x_2_0 x_2_1 x_2_2 x_2_3\n",
      "    x_3_0 x_3_1 x_3_2 x_3_3\n",
      "\n"
     ]
    }
   ],
   "source": [
    "print(mod.prettyprint())"
   ]
  },
  {
   "attachments": {},
   "cell_type": "markdown",
   "id": "ece3e60c",
   "metadata": {},
   "source": [
    "### Create a Quadratic model from the above instance: Step 2: Add the cost function $C$ \n"
   ]
  },
  {
   "cell_type": "code",
   "execution_count": 10,
   "id": "5eba1bab",
   "metadata": {},
   "outputs": [],
   "source": [
    "quadratic_dict = {}\n",
    "#\n",
    "# mod.minimize(quadratic=quadratic_dict)"
   ]
  },
  {
   "cell_type": "code",
   "execution_count": 11,
   "id": "994cb66a",
   "metadata": {},
   "outputs": [],
   "source": [
    "%run -i solutions/solution_tsp_build_model_step_2.py\n"
   ]
  },
  {
   "cell_type": "code",
   "execution_count": 12,
   "id": "283d7ed2",
   "metadata": {},
   "outputs": [
    {
     "name": "stdout",
     "output_type": "stream",
     "text": [
      "{('x_0_0', 'x_1_1'): 10, ('x_0_1', 'x_1_2'): 10, ('x_0_2', 'x_1_3'): 10, ('x_0_3', 'x_1_0'): 10, ('x_0_0', 'x_2_1'): 15, ('x_0_1', 'x_2_2'): 15, ('x_0_2', 'x_2_3'): 15, ('x_0_3', 'x_2_0'): 15, ('x_0_0', 'x_3_1'): 20, ('x_0_1', 'x_3_2'): 20, ('x_0_2', 'x_3_3'): 20, ('x_0_3', 'x_3_0'): 20, ('x_1_0', 'x_2_1'): 35, ('x_1_1', 'x_2_2'): 35, ('x_1_2', 'x_2_3'): 35, ('x_1_3', 'x_2_0'): 35, ('x_1_0', 'x_3_1'): 25, ('x_1_1', 'x_3_2'): 25, ('x_1_2', 'x_3_3'): 25, ('x_1_3', 'x_3_0'): 25, ('x_2_0', 'x_3_1'): 30, ('x_2_1', 'x_3_2'): 30, ('x_2_2', 'x_3_3'): 30, ('x_2_3', 'x_3_0'): 30}\n"
     ]
    }
   ],
   "source": [
    "print(quadratic_dict)\n"
   ]
  },
  {
   "cell_type": "code",
   "execution_count": 13,
   "id": "6b180486",
   "metadata": {},
   "outputs": [
    {
     "name": "stdout",
     "output_type": "stream",
     "text": [
      "Problem name: TSP\n",
      "\n",
      "Minimize\n",
      "  10*x_0_0*x_1_1 + 15*x_0_0*x_2_1 + 20*x_0_0*x_3_1 + 10*x_0_1*x_1_2\n",
      "  + 15*x_0_1*x_2_2 + 20*x_0_1*x_3_2 + 10*x_0_2*x_1_3 + 15*x_0_2*x_2_3\n",
      "  + 20*x_0_2*x_3_3 + 10*x_0_3*x_1_0 + 15*x_0_3*x_2_0 + 20*x_0_3*x_3_0\n",
      "  + 35*x_1_0*x_2_1 + 25*x_1_0*x_3_1 + 35*x_1_1*x_2_2 + 25*x_1_1*x_3_2\n",
      "  + 35*x_1_2*x_2_3 + 25*x_1_2*x_3_3 + 35*x_1_3*x_2_0 + 25*x_1_3*x_3_0\n",
      "  + 30*x_2_0*x_3_1 + 30*x_2_1*x_3_2 + 30*x_2_2*x_3_3 + 30*x_2_3*x_3_0\n",
      "\n",
      "Subject to\n",
      "  No constraints\n",
      "\n",
      "  Binary variables (16)\n",
      "    x_0_0 x_0_1 x_0_2 x_0_3 x_1_0 x_1_1 x_1_2 x_1_3 x_2_0 x_2_1 x_2_2 x_2_3\n",
      "    x_3_0 x_3_1 x_3_2 x_3_3\n",
      "\n"
     ]
    }
   ],
   "source": [
    "print(mod.prettyprint())"
   ]
  },
  {
   "attachments": {},
   "cell_type": "markdown",
   "id": "8f62423d",
   "metadata": {},
   "source": [
    "### Create a Quadratic model from the above instance: Step 3: Add both constraints \n"
   ]
  },
  {
   "cell_type": "code",
   "execution_count": 14,
   "id": "b79cfbd7",
   "metadata": {},
   "outputs": [],
   "source": [
    "#for ..\n",
    "#    for ..    \n",
    "    #mod.linear_constraint(linear=constraint_dict, sense=\"==\", rhs=1, name=\"city_{}_once\".format(i))\n"
   ]
  },
  {
   "cell_type": "code",
   "execution_count": 15,
   "id": "ce51eefa",
   "metadata": {},
   "outputs": [],
   "source": [
    "%run -i solutions/solution_tsp_build_model_step_3.py\n"
   ]
  },
  {
   "cell_type": "code",
   "execution_count": 16,
   "id": "d935f4a4",
   "metadata": {},
   "outputs": [
    {
     "name": "stdout",
     "output_type": "stream",
     "text": [
      "Problem name: TSP\n",
      "\n",
      "Minimize\n",
      "  10*x_0_0*x_1_1 + 15*x_0_0*x_2_1 + 20*x_0_0*x_3_1 + 10*x_0_1*x_1_2\n",
      "  + 15*x_0_1*x_2_2 + 20*x_0_1*x_3_2 + 10*x_0_2*x_1_3 + 15*x_0_2*x_2_3\n",
      "  + 20*x_0_2*x_3_3 + 10*x_0_3*x_1_0 + 15*x_0_3*x_2_0 + 20*x_0_3*x_3_0\n",
      "  + 35*x_1_0*x_2_1 + 25*x_1_0*x_3_1 + 35*x_1_1*x_2_2 + 25*x_1_1*x_3_2\n",
      "  + 35*x_1_2*x_2_3 + 25*x_1_2*x_3_3 + 35*x_1_3*x_2_0 + 25*x_1_3*x_3_0\n",
      "  + 30*x_2_0*x_3_1 + 30*x_2_1*x_3_2 + 30*x_2_2*x_3_3 + 30*x_2_3*x_3_0\n",
      "\n",
      "Subject to\n",
      "  Linear constraints (8)\n",
      "    x_0_0 + x_0_1 + x_0_2 + x_0_3 == 1  'city_0_once'\n",
      "    x_1_0 + x_1_1 + x_1_2 + x_1_3 == 1  'city_1_once'\n",
      "    x_2_0 + x_2_1 + x_2_2 + x_2_3 == 1  'city_2_once'\n",
      "    x_3_0 + x_3_1 + x_3_2 + x_3_3 == 1  'city_3_once'\n",
      "    x_0_0 + x_1_0 + x_2_0 + x_3_0 == 1  'one_city_at_stop_0'\n",
      "    x_0_1 + x_1_1 + x_2_1 + x_3_1 == 1  'one_city_at_stop_1'\n",
      "    x_0_2 + x_1_2 + x_2_2 + x_3_2 == 1  'one_city_at_stop_2'\n",
      "    x_0_3 + x_1_3 + x_2_3 + x_3_3 == 1  'one_city_at_stop_3'\n",
      "\n",
      "  Binary variables (16)\n",
      "    x_0_0 x_0_1 x_0_2 x_0_3 x_1_0 x_1_1 x_1_2 x_1_3 x_2_0 x_2_1 x_2_2 x_2_3\n",
      "    x_3_0 x_3_1 x_3_2 x_3_3\n",
      "\n"
     ]
    }
   ],
   "source": [
    "print(mod.prettyprint())"
   ]
  },
  {
   "attachments": {},
   "cell_type": "markdown",
   "id": "75107ffa",
   "metadata": {},
   "source": [
    "### Mapping to QUBO\n",
    "\n",
    "Now we can turn to mapping to the QUBO form $Q$. Therefore set the penalty weights to \n",
    "\n",
    "$$\\lambda_K = 30$$ \n",
    "\n",
    "and\n",
    "\n",
    "$$\\lambda_J=30$$\n",
    "\n",
    "The mapping can be done with the following function"
   ]
  },
  {
   "cell_type": "code",
   "execution_count": 17,
   "id": "fea2abd2",
   "metadata": {},
   "outputs": [],
   "source": [
    "from qiskit_optimization.converters import LinearEqualityToPenalty\n"
   ]
  },
  {
   "cell_type": "code",
   "execution_count": 18,
   "id": "e35affa0",
   "metadata": {},
   "outputs": [],
   "source": [
    "# penalty_factor = 30\n",
    "# ...\n",
    "# qubo = ...\n",
    "\n"
   ]
  },
  {
   "cell_type": "code",
   "execution_count": 19,
   "id": "a05f712e",
   "metadata": {},
   "outputs": [],
   "source": [
    "%run -i solutions/solution_tsp_build_qubo.py\n"
   ]
  },
  {
   "cell_type": "code",
   "execution_count": 20,
   "id": "1b35c1fe",
   "metadata": {},
   "outputs": [
    {
     "name": "stdout",
     "output_type": "stream",
     "text": [
      "Problem name: TSP\n",
      "\n",
      "Minimize\n",
      "  60*x_0_0^2 + 60*x_0_0*x_0_1 + 60*x_0_0*x_0_2 + 60*x_0_0*x_0_3 + 60*x_0_0*x_1_0\n",
      "  + 10*x_0_0*x_1_1 + 60*x_0_0*x_2_0 + 15*x_0_0*x_2_1 + 60*x_0_0*x_3_0\n",
      "  + 20*x_0_0*x_3_1 + 60*x_0_1^2 + 60*x_0_1*x_0_2 + 60*x_0_1*x_0_3\n",
      "  + 60*x_0_1*x_1_1 + 10*x_0_1*x_1_2 + 60*x_0_1*x_2_1 + 15*x_0_1*x_2_2\n",
      "  + 60*x_0_1*x_3_1 + 20*x_0_1*x_3_2 + 60*x_0_2^2 + 60*x_0_2*x_0_3\n",
      "  + 60*x_0_2*x_1_2 + 10*x_0_2*x_1_3 + 60*x_0_2*x_2_2 + 15*x_0_2*x_2_3\n",
      "  + 60*x_0_2*x_3_2 + 20*x_0_2*x_3_3 + 60*x_0_3^2 + 10*x_0_3*x_1_0\n",
      "  + 60*x_0_3*x_1_3 + 15*x_0_3*x_2_0 + 60*x_0_3*x_2_3 + 20*x_0_3*x_3_0\n",
      "  + 60*x_0_3*x_3_3 + 60*x_1_0^2 + 60*x_1_0*x_1_1 + 60*x_1_0*x_1_2\n",
      "  + 60*x_1_0*x_1_3 + 60*x_1_0*x_2_0 + 35*x_1_0*x_2_1 + 60*x_1_0*x_3_0\n",
      "  + 25*x_1_0*x_3_1 + 60*x_1_1^2 + 60*x_1_1*x_1_2 + 60*x_1_1*x_1_3\n",
      "  + 60*x_1_1*x_2_1 + 35*x_1_1*x_2_2 + 60*x_1_1*x_3_1 + 25*x_1_1*x_3_2\n",
      "  + 60*x_1_2^2 + 60*x_1_2*x_1_3 + 60*x_1_2*x_2_2 + 35*x_1_2*x_2_3\n",
      "  + 60*x_1_2*x_3_2 + 25*x_1_2*x_3_3 + 60*x_1_3^2 + 35*x_1_3*x_2_0\n",
      "  + 60*x_1_3*x_2_3 + 25*x_1_3*x_3_0 + 60*x_1_3*x_3_3 + 60*x_2_0^2\n",
      "  + 60*x_2_0*x_2_1 + 60*x_2_0*x_2_2 + 60*x_2_0*x_2_3 + 60*x_2_0*x_3_0\n",
      "  + 30*x_2_0*x_3_1 + 60*x_2_1^2 + 60*x_2_1*x_2_2 + 60*x_2_1*x_2_3\n",
      "  + 60*x_2_1*x_3_1 + 30*x_2_1*x_3_2 + 60*x_2_2^2 + 60*x_2_2*x_2_3\n",
      "  + 60*x_2_2*x_3_2 + 30*x_2_2*x_3_3 + 60*x_2_3^2 + 30*x_2_3*x_3_0\n",
      "  + 60*x_2_3*x_3_3 + 60*x_3_0^2 + 60*x_3_0*x_3_1 + 60*x_3_0*x_3_2\n",
      "  + 60*x_3_0*x_3_3 + 60*x_3_1^2 + 60*x_3_1*x_3_2 + 60*x_3_1*x_3_3 + 60*x_3_2^2\n",
      "  + 60*x_3_2*x_3_3 + 60*x_3_3^2 - 120*x_0_0 - 120*x_0_1 - 120*x_0_2 - 120*x_0_3\n",
      "  - 120*x_1_0 - 120*x_1_1 - 120*x_1_2 - 120*x_1_3 - 120*x_2_0 - 120*x_2_1\n",
      "  - 120*x_2_2 - 120*x_2_3 - 120*x_3_0 - 120*x_3_1 - 120*x_3_2 - 120*x_3_3 + 240\n",
      "\n",
      "Subject to\n",
      "  No constraints\n",
      "\n",
      "  Binary variables (16)\n",
      "    x_0_0 x_0_1 x_0_2 x_0_3 x_1_0 x_1_1 x_1_2 x_1_3 x_2_0 x_2_1 x_2_2 x_2_3\n",
      "    x_3_0 x_3_1 x_3_2 x_3_3\n",
      "\n"
     ]
    }
   ],
   "source": [
    "print(qubo.prettyprint())"
   ]
  },
  {
   "attachments": {},
   "cell_type": "markdown",
   "id": "cc24944a",
   "metadata": {},
   "source": [
    "### Convert Qubo to Ising\n",
    "\n",
    "we can get the quantum operator of the Ising model by the mapping\n",
    "\n",
    "$$x_{i\\alpha} \\to s_{i\\alpha} \\to Z_{i\\alpha}$$\n",
    "\n",
    "where $s_{i\\alpha}\\in\\{-1, 1\\}$ is a classical spin and $Z_{i\\alpha}$ is the Pauli-Z operator\n",
    "\n",
    "Ising model \n",
    "\n",
    "$$ C = \\sum_i h_i s_i + \\sum_{ij} J_{ij} s_i s_j \\qquad, s_i \\in \\{-1, 1\\} $$\n",
    "\n",
    "with\n",
    "\n",
    "$$\n",
    "x_i = \\frac{s_i + 1}{2} \\qquad s_i \\in \\{-1, 1\\}\n",
    "$$\n",
    "\n"
   ]
  },
  {
   "cell_type": "code",
   "execution_count": 21,
   "id": "35e10fc6",
   "metadata": {},
   "outputs": [
    {
     "name": "stdout",
     "output_type": "stream",
     "text": [
      "SparsePauliOp(['IIIIIIIIIIIIIIIZ', 'IIIIIIIIIIIIIIZI', 'IIIIIIIIIIIIIZII', 'IIIIIIIIIIIIZIII', 'IIIIIIIIIIIZIIII', 'IIIIIIIIIIZIIIII', 'IIIIIIIIIZIIIIII', 'IIIIIIIIZIIIIIII', 'IIIIIIIZIIIIIIII', 'IIIIIIZIIIIIIIII', 'IIIIIZIIIIIIIIII', 'IIIIZIIIIIIIIIII', 'IIIZIIIIIIIIIIII', 'IIZIIIIIIIIIIIII', 'IZIIIIIIIIIIIIII', 'ZIIIIIIIIIIIIIII', 'IIIIIIIIIIIIIIZZ', 'IIIIIIIIIIIIIZIZ', 'IIIIIIIIIIIIZIIZ', 'IIIIIIIIIIIZIIIZ', 'IIIIIIIIIIZIIIIZ', 'IIIIIIIZIIIIIIIZ', 'IIIIIIZIIIIIIIIZ', 'IIIZIIIIIIIIIIIZ', 'IIZIIIIIIIIIIIIZ', 'IIIIIIIIIIIIIZZI', 'IIIIIIIIIIIIZIZI', 'IIIIIIIIIIZIIIZI', 'IIIIIIIIIZIIIIZI', 'IIIIIIZIIIIIIIZI', 'IIIIIZIIIIIIIIZI', 'IIZIIIIIIIIIIIZI', 'IZIIIIIIIIIIIIZI', 'IIIIIIIIIIIIZZII', 'IIIIIIIIIZIIIZII', 'IIIIIIIIZIIIIZII', 'IIIIIZIIIIIIIZII', 'IIIIZIIIIIIIIZII', 'IZIIIIIIIIIIIZII', 'ZIIIIIIIIIIIIZII', 'IIIIIIIIIIIZZIII', 'IIIIIIIIZIIIZIII', 'IIIIIIIZIIIIZIII', 'IIIIZIIIIIIIZIII', 'IIIZIIIIIIIIZIII', 'ZIIIIIIIIIIIZIII', 'IIIIIIIIIIZZIIII', 'IIIIIIIIIZIZIIII', 'IIIIIIIIZIIZIIII', 'IIIIIIIZIIIZIIII', 'IIIIIIZIIIIZIIII', 'IIIZIIIIIIIZIIII', 'IIZIIIIIIIIZIIII', 'IIIIIIIIIZZIIIII', 'IIIIIIIIZIZIIIII', 'IIIIIIZIIIZIIIII', 'IIIIIZIIIIZIIIII', 'IIZIIIIIIIZIIIII', 'IZIIIIIIIIZIIIII', 'IIIIIIIIZZIIIIII', 'IIIIIZIIIZIIIIII', 'IIIIZIIIIZIIIIII', 'IZIIIIIIIZIIIIII', 'ZIIIIIIIIZIIIIII', 'IIIIIIIZZIIIIIII', 'IIIIZIIIZIIIIIII', 'IIIZIIIIZIIIIIII', 'ZIIIIIIIZIIIIIII', 'IIIIIIZZIIIIIIII', 'IIIIIZIZIIIIIIII', 'IIIIZIIZIIIIIIII', 'IIIZIIIZIIIIIIII', 'IIZIIIIZIIIIIIII', 'IIIIIZZIIIIIIIII', 'IIIIZIZIIIIIIIII', 'IIZIIIZIIIIIIIII', 'IZIIIIZIIIIIIIII', 'IIIIZZIIIIIIIIII', 'IZIIIZIIIIIIIIII', 'ZIIIIZIIIIIIIIII', 'IIIZZIIIIIIIIIII', 'ZIIIZIIIIIIIIIII', 'IIZZIIIIIIIIIIII', 'IZIZIIIIIIIIIIII', 'ZIIZIIIIIIIIIIII', 'IZZIIIIIIIIIIIII', 'ZIZIIIIIIIIIIIII', 'ZZIIIIIIIIIIIIII'],\n",
      "              coeffs=[-71.25+0.j, -71.25+0.j, -71.25+0.j, -71.25+0.j, -77.5 +0.j, -77.5 +0.j,\n",
      " -77.5 +0.j, -77.5 +0.j, -80.  +0.j, -80.  +0.j, -80.  +0.j, -80.  +0.j,\n",
      " -78.75+0.j, -78.75+0.j, -78.75+0.j, -78.75+0.j,  15.  +0.j,  15.  +0.j,\n",
      "  15.  +0.j,  15.  +0.j,   2.5 +0.j,  15.  +0.j,   3.75+0.j,  15.  +0.j,\n",
      "   5.  +0.j,  15.  +0.j,  15.  +0.j,  15.  +0.j,   2.5 +0.j,  15.  +0.j,\n",
      "   3.75+0.j,  15.  +0.j,   5.  +0.j,  15.  +0.j,  15.  +0.j,   2.5 +0.j,\n",
      "  15.  +0.j,   3.75+0.j,  15.  +0.j,   5.  +0.j,   2.5 +0.j,  15.  +0.j,\n",
      "   3.75+0.j,  15.  +0.j,   5.  +0.j,  15.  +0.j,  15.  +0.j,  15.  +0.j,\n",
      "  15.  +0.j,  15.  +0.j,   8.75+0.j,  15.  +0.j,   6.25+0.j,  15.  +0.j,\n",
      "  15.  +0.j,  15.  +0.j,   8.75+0.j,  15.  +0.j,   6.25+0.j,  15.  +0.j,\n",
      "  15.  +0.j,   8.75+0.j,  15.  +0.j,   6.25+0.j,   8.75+0.j,  15.  +0.j,\n",
      "   6.25+0.j,  15.  +0.j,  15.  +0.j,  15.  +0.j,  15.  +0.j,  15.  +0.j,\n",
      "   7.5 +0.j,  15.  +0.j,  15.  +0.j,  15.  +0.j,   7.5 +0.j,  15.  +0.j,\n",
      "  15.  +0.j,   7.5 +0.j,   7.5 +0.j,  15.  +0.j,  15.  +0.j,  15.  +0.j,\n",
      "  15.  +0.j,  15.  +0.j,  15.  +0.j,  15.  +0.j])\n"
     ]
    }
   ],
   "source": [
    "ising, offset = qubo.to_ising()\n",
    "print(ising)"
   ]
  },
  {
   "attachments": {},
   "cell_type": "markdown",
   "id": "cc7032f0",
   "metadata": {},
   "source": [
    "### Get the ground state energy and check if the result fulfills the constraints\n"
   ]
  },
  {
   "cell_type": "code",
   "execution_count": 22,
   "id": "494e2960",
   "metadata": {},
   "outputs": [],
   "source": [
    "from qiskit_algorithms import NumPyMinimumEigensolver\n",
    "from qiskit_optimization.applications import OptimizationApplication\n",
    "# hint use OptimizationApplication.sample_most_likely\n",
    "# ..\n",
    "# .."
   ]
  },
  {
   "cell_type": "code",
   "execution_count": 23,
   "id": "8fa0338d",
   "metadata": {},
   "outputs": [
    {
     "name": "stdout",
     "output_type": "stream",
     "text": [
      "energy of ising model: -595.0\n",
      "value of TSP objective C: 20.0\n",
      "fulfills constraints: True\n",
      "solution= [1. 0. 0. 0. 0. 0. 0. 1. 0. 0. 1. 0. 0. 1. 0. 0.]\n"
     ]
    }
   ],
   "source": [
    "%run -i solutions/solution_tsp_exact_ground_state.py\n"
   ]
  },
  {
   "attachments": {},
   "cell_type": "markdown",
   "id": "72241fb8",
   "metadata": {},
   "source": [
    "### Reduce the penalty factor until the ground state violates one of the constraints\n"
   ]
  },
  {
   "cell_type": "markdown",
   "id": "cb75c8dd",
   "metadata": {},
   "source": []
  }
 ],
 "metadata": {
  "kernelspec": {
   "display_name": "qubo_formulation_exercise",
   "language": "python",
   "name": "python3"
  },
  "language_info": {
   "codemirror_mode": {
    "name": "ipython",
    "version": 3
   },
   "file_extension": ".py",
   "mimetype": "text/x-python",
   "name": "python",
   "nbconvert_exporter": "python",
   "pygments_lexer": "ipython3",
   "version": "3.10.13"
  },
  "vscode": {
   "interpreter": {
    "hash": "f7f9643372416e3c1d78ebb1af9241ad861b1b51a3f53af5429053e908695239"
   }
  }
 },
 "nbformat": 4,
 "nbformat_minor": 5
}
